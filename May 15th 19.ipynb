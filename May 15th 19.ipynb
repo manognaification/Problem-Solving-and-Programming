{
 "cells": [
  {
   "cell_type": "markdown",
   "metadata": {},
   "source": [
    "# PROBLEM SOLVING AND PROGRAMMING\n",
    "## DAY 12\n",
    "## DATE : 15TH MAY 2019\n",
    "## DAY OUTCOMES\n",
    "* packages and modules in python\n",
    "* regular expressions in python\n",
    "* iterators in python\n"
   ]
  },
  {
   "cell_type": "markdown",
   "metadata": {},
   "source": [
    "## PACKAGES AND MODULES\n",
    "\n",
    "Package-collection of python scripts\n",
    "\n",
    "Module- N python scripts"
   ]
  },
  {
   "cell_type": "code",
   "execution_count": 4,
   "metadata": {
    "scrolled": true
   },
   "outputs": [
    {
     "name": "stdout",
     "output_type": "stream",
     "text": [
      "720\n",
      "210\n"
     ]
    }
   ],
   "source": [
    "from tes.test import fact\n",
    "print(fact(6))\n",
    "\n",
    "from tes.test import sum \n",
    "print(sum(20))"
   ]
  },
  {
   "cell_type": "code",
   "execution_count": 3,
   "metadata": {},
   "outputs": [
    {
     "name": "stdout",
     "output_type": "stream",
     "text": [
      "ace\n",
      "nohtyp\n"
     ]
    }
   ],
   "source": [
    "from tes.pythonscripts.string import alternateseq as a\n",
    "print(a('abcdef'))\n",
    "from tes.pythonscripts.string import reverse as r\n",
    "print(r('python'))"
   ]
  },
  {
   "cell_type": "code",
   "execution_count": null,
   "metadata": {},
   "outputs": [],
   "source": []
  },
  {
   "cell_type": "markdown",
   "metadata": {},
   "source": [
    "### Regular Expressions\n",
    "A set of all possible values that gives a pattern\n",
    "\n",
    "0123456789\n",
    "[0-9]\n",
    "[a-z]\n",
    "[A-Z]\n",
    "\n",
    "password validation\n",
    "* should contain atleast one uppercase letter\n",
    "* length in range[6,13]\n",
    "* should contain atleast one special case character\n",
    "* should start with uppercase or lowercase letter\n",
    "* should contain atleast one digit\n"
   ]
  },
  {
   "cell_type": "code",
   "execution_count": 94,
   "metadata": {},
   "outputs": [
    {
     "name": "stdout",
     "output_type": "stream",
     "text": [
      "match\n"
     ]
    }
   ],
   "source": [
    "import re\n",
    "\n",
    "pattern = '^[1-9][0-9]{5}'\n",
    "\n",
    "code= '123450'\n",
    "\n",
    "phonenumber='^[+][9][1][6-9][0-9]{9}$'\n",
    "ph='+919876567123'\n",
    "\n",
    "\n",
    "if re.match(phonenumber,ph):\n",
    "    print('match')\n",
    "else:\n",
    "    print('not match')"
   ]
  },
  {
   "cell_type": "markdown",
   "metadata": {},
   "source": [
    "## genrators in python\n",
    "\n",
    "\n"
   ]
  },
  {
   "cell_type": "code",
   "execution_count": 12,
   "metadata": {},
   "outputs": [
    {
     "data": {
      "text/plain": [
       "<generator object <genexpr> at 0x03F61330>"
      ]
     },
     "execution_count": 12,
     "metadata": {},
     "output_type": "execute_result"
    }
   ],
   "source": [
    "li= [i**3 for i in range(1,10)]\n",
    "li\n",
    "\n",
    "gn = (i**3 for i in range(1,11))\n"
   ]
  }
 ],
 "metadata": {
  "kernelspec": {
   "display_name": "Python 3",
   "language": "python",
   "name": "python3"
  },
  "language_info": {
   "codemirror_mode": {
    "name": "ipython",
    "version": 3
   },
   "file_extension": ".py",
   "mimetype": "text/x-python",
   "name": "python",
   "nbconvert_exporter": "python",
   "pygments_lexer": "ipython3",
   "version": "3.7.3"
  }
 },
 "nbformat": 4,
 "nbformat_minor": 2
}
