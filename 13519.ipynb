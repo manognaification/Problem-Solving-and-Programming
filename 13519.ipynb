{
 "cells": [
  {
   "cell_type": "markdown",
   "metadata": {},
   "source": [
    "# Problem Solving And Programming\n",
    "## Day No-10\n",
    "## Date-13/5/19\n",
    "## Day Outcomes\n",
    "1.Practicing Python Syntax in the Interactive Shell Print Function - print() Variable Assignment(Single Variable, Multiple Variables) Getting the Data Types using type() String Slicing Lists Tuples Dictionaries Reading input from user 2.Jupyter Notebooks Overview, Architecture Standard Template Markdown Syntax 3.Problem Set Data Processing\n",
    "\n",
    "# Problem 1 :\n",
    "## Problem Statement:\n",
    " You are given n words. Some words may repeat. For each word, output its number of occurrences. The output order should correspond with the input order of appearance of the word.\n",
    " ## Constraints\n",
    " \n",
    " \n",
    " ## Test cases\n",
    " Sample Input :  6\n",
    "* abcd\n",
    "* ijkl\n",
    "* abcd\n",
    "* pqrs\n",
    "* abcd\n",
    "* ijkl\n",
    "\n",
    "Sample Output : 3\n",
    "3  2   1"
   ]
  },
  {
   "cell_type": "code",
   "execution_count": 17,
   "metadata": {},
   "outputs": [
    {
     "name": "stdout",
     "output_type": "stream",
     "text": [
      "Input no of strings6\n",
      "Enter stringabcd\n",
      "Enter stringijkl\n",
      "Enter stringabcd\n",
      "Enter stringpqrs\n",
      "Enter stringabcd\n",
      "Enter stringijkl\n",
      "3\n",
      "3\n",
      "2\n",
      "1\n"
     ]
    }
   ],
   "source": [
    "def read(num):\n",
    "    st=[]\n",
    "    for count in range(0,num):\n",
    "        st.append(input(\"Enter string\"))\n",
    "    return st\n",
    "def freq(st,k):\n",
    "    for count in range (0,len(k)):\n",
    "        f=0\n",
    "        for counter in range (0,len(st)):\n",
    "            if k[count]==st[counter]:\n",
    "                f=f+1\n",
    "        print(f)  \n",
    "num=int(input(\"Input no of strings\"))\n",
    "a= read(num)\n",
    "b=dt(a)\n",
    "print(len(b))\n",
    "freq(a,b)"
   ]
  },
  {
   "cell_type": "markdown",
   "metadata": {},
   "source": [
    "# Problem 2 :\n",
    "## Problem Statement:\n",
    " Define a function to validate email addresses based on the following rules.\n",
    "* Email should be in the format username@domain.extension\n",
    "* Username must start with an alphabet and can contain lowercase alphabet, digits, hyphen(-) and underscores( _ ).\n",
    "* Username must not contain special characters, uppercase letters, whitespaces.\n",
    "* Length of username must be in the range (6, 16)\n",
    "* Domain can only contain lowercase alphabet and digits with length in range (3, 10) . No special characters are allowed\n",
    "* Extension can only contain lower case alphabet and its length must be in the range (2, 4)\n",
    "* First line of input contains total number of email addresses n.  Next n lines contain  n email addresses.\n",
    "* Output must contain contain  n  lines with either 'Valid' or 'Invalid'\n",
    "## Constraints\n",
    " \n",
    " \n",
    "## Test cases\n",
    "Sample Input :  6\n",
    "abc456@gmail.com\n",
    "456abc@yahoo.com\n",
    "abc_456@gitam.ed1\n",
    "abc-456@abc-d.in\n",
    "python@python.edu\n",
    "abc456@edu.edu\n",
    "Sample Output : Valid\n",
    "Invalid\n",
    "Invalid\n",
    "Invalid\n",
    "Valid\n",
    "Invalid"
   ]
  },
  {
   "cell_type": "code",
   "execution_count": 2,
   "metadata": {},
   "outputs": [
    {
     "name": "stdout",
     "output_type": "stream",
     "text": [
      "valid\n",
      "invalid\n",
      "invalid\n",
      "invalid\n",
      "valid\n",
      "invalid\n"
     ]
    }
   ],
   "source": [
    "def email(a):\n",
    "    l1=[chr(x) for x in range(97,123)]\n",
    "    l2=[chr(x) for x in range(65,95) ]\n",
    "    l3=['/','`']\n",
    "    l4=[chr(x) for x in range(32,45)]\n",
    "    l5=[chr(x) for x in range(58,65)]\n",
    "    l6=[chr(x) for x in range(123,127)]\n",
    "    l7=[chr(x) for x in range(48,58)]\n",
    "    \n",
    "        \n",
    "    if '@' not in a or '.' not in a:\n",
    "        return 'invalid'\n",
    "    u=a[0:a.index('@')]\n",
    "    d=a[a.index('@')+1:a.index('.')]\n",
    "    e=a[a.index('.')+1:]\n",
    "    if a[0] not in l1:\n",
    "        return 'invalid'\n",
    "    for x in u:\n",
    "        if x in l2 or x in l3 or x in l4 or x in l5 or x in l6:\n",
    "            return 'invalid'\n",
    "    if len(u)<6 and len(u)>15:\n",
    "        return 'invalid'\n",
    "    if len(d)<3 and len(d)>9:\n",
    "        return 'invalid'\n",
    "    for x in d:\n",
    "        if x not in l1 and x not in l7:\n",
    "            return 'invalid'\n",
    "    if len(e)<2 and len(e)>3:\n",
    "        return 'invalid'\n",
    "    for x in e:\n",
    "        if x not in l1:\n",
    "            return 'invalid'\n",
    "    return 'valid'\n",
    "a=['abc456@gmail.com','456abc@yahoo.com','abc_456@gitam.ed1','abc-456@abc-d.in','python@python.edu','abc 456@edu.edu']\n",
    "for i in range(0,6):\n",
    "    print(email(a[i]))"
   ]
  },
  {
   "cell_type": "markdown",
   "metadata": {},
   "source": []
  },
  {
   "cell_type": "code",
   "execution_count": null,
   "metadata": {},
   "outputs": [],
   "source": []
  }
 ],
 "metadata": {
  "kernelspec": {
   "display_name": "Python 3",
   "language": "python",
   "name": "python3"
  },
  "language_info": {
   "codemirror_mode": {
    "name": "ipython",
    "version": 3
   },
   "file_extension": ".py",
   "mimetype": "text/x-python",
   "name": "python",
   "nbconvert_exporter": "python",
   "pygments_lexer": "ipython3",
   "version": "3.7.3"
  }
 },
 "nbformat": 4,
 "nbformat_minor": 2
}
