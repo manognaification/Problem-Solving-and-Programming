{
 "cells": [
  {
   "cell_type": "markdown",
   "metadata": {},
   "source": [
    "# Problem Solving and Programming\n",
    "##  Day No 6\n",
    "##  Date 09 May 2019\n",
    "\n",
    "# Day Objectives\n",
    "\n",
    "    Objective 1\n",
    "    Objective 2\n",
    "    Objective 3\n",
    "\n",
    "# Problem 2:¶\n",
    "#### Statement\n",
    "\n",
    "Determining whether a number is Even or Odd   \n"
   ]
  },
  {
   "cell_type": "code",
   "execution_count": null,
   "metadata": {},
   "outputs": [],
   "source": []
  }
 ],
 "metadata": {
  "kernelspec": {
   "display_name": "Python 3",
   "language": "python",
   "name": "python3"
  },
  "language_info": {
   "codemirror_mode": {
    "name": "ipython",
    "version": 3
   },
   "file_extension": ".py",
   "mimetype": "text/x-python",
   "name": "python",
   "nbconvert_exporter": "python",
   "pygments_lexer": "ipython3",
   "version": "3.7.3"
  }
 },
 "nbformat": 4,
 "nbformat_minor": 2
}
