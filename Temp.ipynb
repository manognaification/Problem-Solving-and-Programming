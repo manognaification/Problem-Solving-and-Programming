{
 "cells": [
  {
   "cell_type": "markdown",
   "metadata": {},
   "source": [
    "# PROBLEM  SOLVING AND PROGRAMMING\n",
    "### DAY 10\n",
    "### DATE : 8/5/19"
   ]
  },
  {
   "cell_type": "markdown",
   "metadata": {},
   "source": [
    "### day objective\n",
    "Practicing Python Syntax in the Interactive Shell\n",
    "Print Function - print()\n",
    "Variable Assignment(Single Variable, Multiple Variables)\n",
    "Getting the Data Types using type()\n",
    "String Slicing\n",
    "Lists\n",
    "Tuples\n",
    "Dictionaries\n",
    "Reading input from user\n",
    "Jupyter Notebooks\n",
    "Overview, Architecture\n",
    "Standard Template\n",
    "Markdown Syntax\n",
    "Problem Set\n",
    "Data Processing"
   ]
  },
  {
   "cell_type": "markdown",
   "metadata": {},
   "source": [
    "## Problem 1 \n",
    "##### Problem statement\n",
    "\n",
    "\n",
    "##### Constrains\n",
    "Given number will range [1,10000000000]\n",
    "\n",
    "#####  Test  Cases\n",
    "* checkDivisibility(6) ->True \n",
    "* checkDivisibility(16) ->False\n",
    "* checkDivisibility(20) ->false"
   ]
  },
  {
   "cell_type": "code",
   "execution_count": 9,
   "metadata": {},
   "outputs": [
    {
     "name": "stdout",
     "output_type": "stream",
     "text": [
      "6 True\n",
      "16 False\n",
      "20 False\n"
     ]
    }
   ],
   "source": [
    "def checkDivisibility(n):\n",
    "    if(n % 2 == 0 and n%3==0 and n%4!=0):\n",
    "        return True\n",
    "    else:\n",
    "        return False\n",
    "        \n",
    "print(6, checkDivisibility(6))\n",
    "print(16, checkDivisibility(16))\n",
    "print(20, checkDivisibility(20))"
   ]
  },
  {
   "cell_type": "code",
   "execution_count": null,
   "metadata": {},
   "outputs": [],
   "source": []
  }
 ],
 "metadata": {
  "kernelspec": {
   "display_name": "Python 3",
   "language": "python",
   "name": "python3"
  },
  "language_info": {
   "codemirror_mode": {
    "name": "ipython",
    "version": 3
   },
   "file_extension": ".py",
   "mimetype": "text/x-python",
   "name": "python",
   "nbconvert_exporter": "python",
   "pygments_lexer": "ipython3",
   "version": "3.7.3"
  }
 },
 "nbformat": 4,
 "nbformat_minor": 2
}
