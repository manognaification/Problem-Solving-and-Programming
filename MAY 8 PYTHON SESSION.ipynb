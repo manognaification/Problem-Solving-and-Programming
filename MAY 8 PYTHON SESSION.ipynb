{
 "cells": [
  {
   "cell_type": "code",
   "execution_count": null,
   "metadata": {},
   "outputs": [],
   "source": [
    "str=\"python programming\"\n",
    "str[0]\n",
    "str[len(str)-1]"
   ]
  },
  {
   "cell_type": "code",
   "execution_count": 4,
   "metadata": {},
   "outputs": [
    {
     "data": {
      "text/plain": [
       "'python'"
      ]
     },
     "execution_count": 4,
     "metadata": {},
     "output_type": "execute_result"
    }
   ],
   "source": [
    "str[0:6]"
   ]
  },
  {
   "cell_type": "code",
   "execution_count": 6,
   "metadata": {},
   "outputs": [
    {
     "data": {
      "text/plain": [
       "'gnimmargorp nohtyp'"
      ]
     },
     "execution_count": 6,
     "metadata": {},
     "output_type": "execute_result"
    }
   ],
   "source": [
    "str[len(str)-1::-1]"
   ]
  },
  {
   "cell_type": "code",
   "execution_count": 7,
   "metadata": {},
   "outputs": [
    {
     "data": {
      "text/plain": [
       "'pto rgamn'"
      ]
     },
     "execution_count": 7,
     "metadata": {},
     "output_type": "execute_result"
    }
   ],
   "source": [
    "str[0:len(str):2]"
   ]
  },
  {
   "cell_type": "code",
   "execution_count": null,
   "metadata": {},
   "outputs": [],
   "source": [
    "str[5:-2]"
   ]
  },
  {
   "cell_type": "code",
   "execution_count": null,
   "metadata": {},
   "outputs": [],
   "source": []
  },
  {
   "cell_type": "markdown",
   "metadata": {},
   "source": [
    "# li=[123,345,'python']"
   ]
  },
  {
   "cell_type": "code",
   "execution_count": 2,
   "metadata": {},
   "outputs": [
    {
     "ename": "NameError",
     "evalue": "name 'li' is not defined",
     "output_type": "error",
     "traceback": [
      "\u001b[1;31m---------------------------------------------------------------------------\u001b[0m",
      "\u001b[1;31mNameError\u001b[0m                                 Traceback (most recent call last)",
      "\u001b[1;32m<ipython-input-2-61399a357438>\u001b[0m in \u001b[0;36m<module>\u001b[1;34m\u001b[0m\n\u001b[1;32m----> 1\u001b[1;33m \u001b[0mlen\u001b[0m\u001b[1;33m(\u001b[0m\u001b[0mli\u001b[0m\u001b[1;33m)\u001b[0m\u001b[1;33m\u001b[0m\u001b[1;33m\u001b[0m\u001b[0m\n\u001b[0m\u001b[0;32m      2\u001b[0m \u001b[0mli\u001b[0m\u001b[1;33m[\u001b[0m\u001b[1;36m2\u001b[0m\u001b[1;33m]\u001b[0m\u001b[1;33m\u001b[0m\u001b[1;33m\u001b[0m\u001b[0m\n\u001b[0;32m      3\u001b[0m \u001b[0mli\u001b[0m\u001b[1;33m[\u001b[0m\u001b[0mlen\u001b[0m\u001b[1;33m(\u001b[0m\u001b[0mli\u001b[0m\u001b[1;33m)\u001b[0m\u001b[1;33m-\u001b[0m\u001b[1;36m1\u001b[0m\u001b[1;33m]\u001b[0m\u001b[1;33m=\u001b[0m\u001b[1;34m'Programming'\u001b[0m\u001b[1;33m\u001b[0m\u001b[1;33m\u001b[0m\u001b[0m\n\u001b[0;32m      4\u001b[0m \u001b[0mli\u001b[0m\u001b[1;33m.\u001b[0m\u001b[0mappend\u001b[0m\u001b[1;33m(\u001b[0m\u001b[1;34m'python'\u001b[0m\u001b[1;33m)\u001b[0m\u001b[1;33m\u001b[0m\u001b[1;33m\u001b[0m\u001b[0m\n\u001b[0;32m      5\u001b[0m \u001b[1;31m#print(li)\u001b[0m\u001b[1;33m\u001b[0m\u001b[1;33m\u001b[0m\u001b[1;33m\u001b[0m\u001b[0m\n",
      "\u001b[1;31mNameError\u001b[0m: name 'li' is not defined"
     ]
    }
   ],
   "source": [
    "len(li)\n",
    "li[2]\n",
    "li[len(li)-1]='Programming'\n",
    "li.append('python')\n",
    "#print(li)\n",
    "li[2:]\n",
    "li.pop()\n",
    "li.append('123')\n",
    "li.remove(123)\n",
    "print(li)\n",
    "li.pop(0)\n",
    "li.insert(0,123)\n",
    "li.insert(1,345)\n",
    "li2 = [[1,2,3],[4,5,6],[7,8,9]]\n",
    "li2\n",
    "li2[1][1]\n",
    "li2.insert(3,[10,11,12])\n",
    "li2.pop(3)\n",
    "li2\n",
    "li2.pop(2)\n",
    "li2.remove([1,2,3])\n",
    "li2 = [[1,2,3],[4,5,6],[7,8,9]]\n",
    "for i in range(len(li2)-1,0):\n",
    "    #for j in range(len(li2[i]-1,-1 -1)):\n",
    "    print(li2[i], end= ' ')\n",
    "    "
   ]
  },
  {
   "cell_type": "code",
   "execution_count": 48,
   "metadata": {},
   "outputs": [
    {
     "data": {
      "text/plain": [
       "'321543765'"
      ]
     },
     "execution_count": 48,
     "metadata": {},
     "output_type": "execute_result"
    }
   ],
   "source": [
    "t1=(123, 345, 567)\n",
    "t1[2] + t1[1]\n",
    "t1[len(t1)-1]\n",
    "t1[1:3]\n",
    "#str(t1[0])[1] + \" \" + str(t1[1])[1] + \" \" + str(t1[2])[1]\n",
    "t1= (123, 345, 567)\n",
    "str(t1[0])[2::-1] + str(t1[1])[2::-1] + str(t1[2])[2::-1]"
   ]
  },
  {
   "cell_type": "code",
   "execution_count": 7,
   "metadata": {},
   "outputs": [
    {
     "name": "stdout",
     "output_type": "stream",
     "text": [
      "9 8 7 6 5 4 "
     ]
    }
   ],
   "source": [
    "li=[123,345,'python','programming']\n",
    "li[2] \n",
    "li[len(li)-1]='Programming'\n",
    "li.append('python')\n",
    "\n",
    "#print(li) li[2:] li.pop() li.append('123') li.remove(123)\n",
    "\n",
    "#print(li)\n",
    "li.pop(0) \n",
    "li.insert(0,123)\n",
    "li.insert(1,345)\n",
    "li2 = [[1,2,3],[4,5,6],[7,8,9]]\n",
    "li2\n",
    "li2[1][1] \n",
    "li2.insert(3,[10,11,12]) \n",
    "li2.pop(3)\n",
    "li2 \n",
    "li2.pop(2) \n",
    "li2.remove([1,2,3])\n",
    "li2 = [[1,2,3],[4,5,6],[7,8,9]] \n",
    "for i in range(len(li2)-1,0,-1):\n",
    "    for j in range(len(li2[i])-1,-1,-1):\n",
    "        print(li2[i][j], end= ' ')"
   ]
  },
  {
   "cell_type": "code",
   "execution_count": 8,
   "metadata": {},
   "outputs": [
    {
     "name": "stdout",
     "output_type": "stream",
     "text": [
      "enter a stringManogna\n"
     ]
    }
   ],
   "source": [
    "str1 = input(\"enter a string\")"
   ]
  },
  {
   "cell_type": "markdown",
   "metadata": {},
   "source": [
    "# DIRECTORIES"
   ]
  },
  {
   "cell_type": "code",
   "execution_count": 9,
   "metadata": {},
   "outputs": [
    {
     "data": {
      "text/plain": [
       "{'procedural': 'C',\n",
       " 'Scripting': 'python',\n",
       " 'functional': 'ascal',\n",
       " 'Symbolic': 'Mathematica',\n",
       " 'logic': 'prolog',\n",
       " 'objectorientated': 'Java'}"
      ]
     },
     "execution_count": 9,
     "metadata": {},
     "output_type": "execute_result"
    }
   ],
   "source": [
    "d1 = {'procedural' : 'C', 'Scripting' : 'python' , 'functional':'ascal'}\n",
    "d1['Scripting']\n",
    "d1.values()\n",
    "d1.keys()\n",
    "d2= {'Symbolic':'Mathematica' , 'logic':'prolog' }\n",
    "d1.update(d2)\n",
    "d1\n",
    "\n",
    "d1['objectorientated'] = 'Java' \n",
    "d1\n",
    "d1['logic']\n",
    "d1\n"
   ]
  },
  {
   "cell_type": "code",
   "execution_count": null,
   "metadata": {},
   "outputs": [],
   "source": []
  }
 ],
 "metadata": {
  "kernelspec": {
   "display_name": "Python 3",
   "language": "python",
   "name": "python3"
  },
  "language_info": {
   "codemirror_mode": {
    "name": "ipython",
    "version": 3
   },
   "file_extension": ".py",
   "mimetype": "text/x-python",
   "name": "python",
   "nbconvert_exporter": "python",
   "pygments_lexer": "ipython3",
   "version": "3.7.3"
  }
 },
 "nbformat": 4,
 "nbformat_minor": 2
}
