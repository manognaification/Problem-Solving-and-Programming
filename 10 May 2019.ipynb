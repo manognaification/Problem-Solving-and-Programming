{
 "cells": [
  {
   "cell_type": "markdown",
   "metadata": {},
   "source": [
    "# PROBLEM SOLVING AND PROGRAMMING\n",
    "## DATE 10/05/19\n",
    "### Day 7\n",
    "### DAY OUTCOMES\n",
    "\n"
   ]
  },
  {
   "cell_type": "markdown",
   "metadata": {},
   "source": [
    "# PROBLEM 1\n",
    "## PROBLEM STATEMENT\n",
    "## Design a procedure to calculate the squareroot of a number \"without using the math function sqrt\".\n",
    "\n",
    "## CONSTRAINTS\n",
    "\n",
    "## TEST CASES\n",
    "Squareroot(36) -> 6\n"
   ]
  },
  {
   "cell_type": "code",
   "execution_count": 56,
   "metadata": {},
   "outputs": [
    {
     "data": {
      "text/plain": [
       "6.0"
      ]
     },
     "execution_count": 56,
     "metadata": {},
     "output_type": "execute_result"
    }
   ],
   "source": [
    "def squareroot(n):\n",
    "    return n**0.5\n",
    "\n",
    "squareroot(36)"
   ]
  },
  {
   "cell_type": "markdown",
   "metadata": {},
   "source": [
    "# PROBLEM 2\n",
    "## PROBLEM STATEMENT\n",
    "Procedure to count the number of digits in a given number.\n",
    "\n",
    "## CONSTRAINTS\n",
    "\n",
    "## Test Cases\n",
    "* CountDigits(123456) ->  6\n",
    "* CountDigits (0) ->  1"
   ]
  },
  {
   "cell_type": "code",
   "execution_count": 66,
   "metadata": {},
   "outputs": [
    {
     "name": "stdout",
     "output_type": "stream",
     "text": [
      "6\n",
      "1\n"
     ]
    }
   ],
   "source": [
    "def count(n):\n",
    "    return len(str(n))\n",
    "    \n",
    "    \n",
    "print(count(123456)) \n",
    "print(count(0))"
   ]
  },
  {
   "cell_type": "markdown",
   "metadata": {},
   "source": [
    "# Problem 3\n",
    "## Problem Statement\n",
    "Procedure to generate the first N perfect numbers.\n",
    "\n",
    "## Constraints\n",
    "\n",
    "## Test Cases\n",
    "* GeneratePerfect(2) ->  6   28\n",
    "* GeneratePerfect (4) ->  6   28   496    8128"
   ]
  },
  {
   "cell_type": "code",
   "execution_count": 64,
   "metadata": {},
   "outputs": [
    {
     "name": "stdout",
     "output_type": "stream",
     "text": [
      "[6, 28]\n",
      "[6, 28, 496, 8128]\n"
     ]
    }
   ],
   "source": [
    "def perfect(n):\n",
    "    sum=0\n",
    "    for i in range(1,n):\n",
    "        if n%i==0:\n",
    "            sum=sum+i\n",
    "    if sum==n:\n",
    "        return sum\n",
    "    else:\n",
    "        return 0\n",
    "def genper(n):\n",
    "    a=[]\n",
    "    i=1\n",
    "    for counter in range(1,100000):\n",
    "        per=perfect(counter)\n",
    "        if per!=0:\n",
    "            a.append(per)\n",
    "            i=i+1\n",
    "        if n==i-1:\n",
    "            break\n",
    "    return a\n",
    "\n",
    "print(genper(2))  \n",
    "print(genper(4)) "
   ]
  },
  {
   "cell_type": "markdown",
   "metadata": {},
   "source": []
  },
  {
   "cell_type": "markdown",
   "metadata": {},
   "source": [
    "## RECURSION\n",
    "## PROBLEM 4:\n",
    "### PROBLEM STATEMENT\n",
    "CALCULATE POWER OF A NUMBER USING RECURSION\n",
    "\n",
    "### Test Cases\n",
    "recursivepower(2,7)    \n"
   ]
  },
  {
   "cell_type": "code",
   "execution_count": 68,
   "metadata": {},
   "outputs": [
    {
     "data": {
      "text/plain": [
       "128"
      ]
     },
     "execution_count": 68,
     "metadata": {},
     "output_type": "execute_result"
    }
   ],
   "source": [
    "def recursivepower(n,r):\n",
    "    if r==1:\n",
    "        return n\n",
    "    else:\n",
    "        return recursivepower(n, r-1) * n\n",
    "    \n",
    "recursivepower(2,7)"
   ]
  },
  {
   "cell_type": "markdown",
   "metadata": {},
   "source": [
    "## PROBLEM 5:\n",
    "### PROBLEM STATEMENT\n",
    "CALCULATE FACTORIAL OF A NUMBER USING RECURSION\n",
    "\n",
    "### Test Cases\n",
    " fact(5) ->120 \n"
   ]
  },
  {
   "cell_type": "code",
   "execution_count": 71,
   "metadata": {},
   "outputs": [
    {
     "data": {
      "text/plain": [
       "120"
      ]
     },
     "execution_count": 71,
     "metadata": {},
     "output_type": "execute_result"
    }
   ],
   "source": [
    "def fact(n):\n",
    "    if n==1:\n",
    "        return n\n",
    "    else:\n",
    "        return (n)*fact(n-1)\n",
    "\n",
    "fact(5)   "
   ]
  },
  {
   "cell_type": "markdown",
   "metadata": {},
   "source": [
    "## PROBLEM 6:\n",
    "### PROBLEM STATEMENT\n",
    "CALCULATE GCD OF 2 NUMBERS USING RECURSION METHOD\n",
    "\n",
    "### TEST CASES\n",
    "gcd(12,69)"
   ]
  },
  {
   "cell_type": "code",
   "execution_count": 73,
   "metadata": {},
   "outputs": [
    {
     "data": {
      "text/plain": [
       "3"
      ]
     },
     "execution_count": 73,
     "metadata": {},
     "output_type": "execute_result"
    }
   ],
   "source": [
    "def gcd(a, b):\n",
    "    if b % a== 0:\n",
    "        return a\n",
    "    else:\n",
    "        return gcd(b % a,b)\n",
    "\n",
    "gcd(12,69)"
   ]
  },
  {
   "cell_type": "markdown",
   "metadata": {},
   "source": [
    "## PROBLEM 7\n",
    "### PROBLEM STATEMENT\n",
    "CALCULATE GCD OF 2 NUMBERS USING ITERATION MEMETHOD\n"
   ]
  },
  {
   "cell_type": "code",
   "execution_count": 74,
   "metadata": {},
   "outputs": [
    {
     "data": {
      "text/plain": [
       "3"
      ]
     },
     "execution_count": 74,
     "metadata": {},
     "output_type": "execute_result"
    }
   ],
   "source": [
    "def gcd(a,b):\n",
    "    r=b%a\n",
    "    if(r==0):\n",
    "        return a\n",
    "    while r!=0:\n",
    "        r=b%a\n",
    "        b=a\n",
    "        a=r\n",
    "        \n",
    "    return b\n",
    "\n",
    "gcd(12,69)\n",
    "    "
   ]
  },
  {
   "cell_type": "markdown",
   "metadata": {},
   "source": [
    "## PROBLEM 8:\n",
    "### PROBLEM STATEMENT\n",
    "Solving the towers of hanoi\n",
    "\n",
    "### TEST CASES\n",
    "\n"
   ]
  },
  {
   "cell_type": "code",
   "execution_count": 90,
   "metadata": {},
   "outputs": [
    {
     "name": "stdout",
     "output_type": "stream",
     "text": [
      "Move 1 disk from  A C\n",
      "Move 2 disk from  A B\n",
      "Move 1 disk from  A C\n",
      "Move 3 disk from  A C\n",
      "Move 1 disk from  A C\n",
      "Move 2 disk from  A B\n",
      "Move 1 disk from  A C\n",
      "Move 4 disk from  A B\n",
      "Move 1 disk from  A C\n",
      "Move 2 disk from  A B\n",
      "Move 1 disk from  A C\n",
      "Move 3 disk from  A C\n",
      "Move 1 disk from  A C\n",
      "Move 2 disk from  A B\n",
      "Move 1 disk from  A C\n",
      "Move 5 disk from  A C\n",
      "Move 1 disk from  A C\n",
      "Move 2 disk from  A B\n",
      "Move 1 disk from  A C\n",
      "Move 3 disk from  A C\n",
      "Move 1 disk from  A C\n",
      "Move 2 disk from  A B\n",
      "Move 1 disk from  A C\n",
      "Move 4 disk from  A B\n",
      "Move 1 disk from  A C\n",
      "Move 2 disk from  A B\n",
      "Move 1 disk from  A C\n",
      "Move 3 disk from  A C\n",
      "Move 1 disk from  A C\n",
      "Move 2 disk from  A B\n",
      "Move 1 disk from  A C\n"
     ]
    }
   ],
   "source": [
    "def towersOfHanoi(n, source, temp, dest):\n",
    "    if n==1:\n",
    "        print('Move', n, 'disk from ',source,dest)\n",
    "        return\n",
    "    else:\n",
    "        towersOfHanoi(n-1, source,dest,temp)\n",
    "        print('Move', n, 'disk from ',source,dest)\n",
    "        towersOfHanoi(n-1, source,dest,temp)\n",
    "\n",
    "        return\n",
    "    \n",
    "towersOfHanoi(5, 'A', 'B', 'C')"
   ]
  },
  {
   "cell_type": "markdown",
   "metadata": {},
   "source": [
    "## Problem 9:\n",
    "### Problem Statement\n",
    "To Genrate nth fibanocci number\n"
   ]
  },
  {
   "cell_type": "code",
   "execution_count": 25,
   "metadata": {},
   "outputs": [
    {
     "data": {
      "text/plain": [
       "1"
      ]
     },
     "execution_count": 25,
     "metadata": {},
     "output_type": "execute_result"
    }
   ],
   "source": [
    "def fib(n):\n",
    "    if(n<=0):\n",
    "        return 1\n",
    "    else:\n",
    "        return fib(n-1)+fib(n-2)\n",
    "fib(0)"
   ]
  },
  {
   "cell_type": "markdown",
   "metadata": {},
   "source": [
    "## Problem 10:\n",
    "### Problem Statement\n",
    "Define a function to identity the number of times a substring is repeating in a given string\n",
    "\n",
    "### Test Cases\n",
    "substringCount('str', 'substr') -> 1\n",
    "substringCount('1234567891122334455', '3') -> 3\n",
    "substringCount('abccddccc', 'cc') -> 3"
   ]
  },
  {
   "cell_type": "code",
   "execution_count": 49,
   "metadata": {},
   "outputs": [
    {
     "name": "stdout",
     "output_type": "stream",
     "text": [
      "1\n",
      "3\n",
      "3\n",
      "3\n",
      "5\n"
     ]
    }
   ],
   "source": [
    "def substr(a,key):\n",
    "    count=0\n",
    "    l=len(key)\n",
    "    for i in range(0,len(a)-len(key)+1):\n",
    "        if a[i:l]==key:\n",
    "            count+=1\n",
    "        l+=1\n",
    "    return count\n",
    " \n",
    "\n",
    "print(substr('substr', 'str'))\n",
    "print(substr('1234567891122334455', '3'))\n",
    "print(substr('abccddccc', 'cc'))\n",
    "print(substr('abccddccc', 'cc'))\n",
    "print(substr('aaaaaaa', 'aaa' ))\n",
    "\n"
   ]
  },
  {
   "cell_type": "markdown",
   "metadata": {},
   "source": [
    "## Problem 11:\n",
    "### Problem Statement\n",
    "Define a function to check if a given year is a leap year. Returns a boolean value\n",
    "\n",
    "### Test Cases\n",
    "* 1900 -> False\n",
    "* 2012 -> True\n",
    "* 2020 -> True\n",
    "* 0200 -> False"
   ]
  },
  {
   "cell_type": "code",
   "execution_count": 24,
   "metadata": {},
   "outputs": [
    {
     "name": "stdout",
     "output_type": "stream",
     "text": [
      "False\n",
      "True\n",
      "True\n",
      "False\n"
     ]
    }
   ],
   "source": [
    "def leap(n):\n",
    "    if (n%100!=0 or n%400==0):\n",
    "        return True\n",
    "    else:\n",
    "        return False\n",
    "\n",
    "print(leap(1900))\n",
    "print(leap(2012)) \n",
    "print(leap(2020)) \n",
    "print(leap(200)) "
   ]
  },
  {
   "cell_type": "code",
   "execution_count": null,
   "metadata": {},
   "outputs": [],
   "source": []
  },
  {
   "cell_type": "code",
   "execution_count": null,
   "metadata": {},
   "outputs": [],
   "source": []
  }
 ],
 "metadata": {
  "kernelspec": {
   "display_name": "Python 3",
   "language": "python",
   "name": "python3"
  },
  "language_info": {
   "codemirror_mode": {
    "name": "ipython",
    "version": 3
   },
   "file_extension": ".py",
   "mimetype": "text/x-python",
   "name": "python",
   "nbconvert_exporter": "python",
   "pygments_lexer": "ipython3",
   "version": "3.7.3"
  }
 },
 "nbformat": 4,
 "nbformat_minor": 2
}
