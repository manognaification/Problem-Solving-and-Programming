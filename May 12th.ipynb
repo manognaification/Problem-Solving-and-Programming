{
 "cells": [
  {
   "cell_type": "markdown",
   "metadata": {},
   "source": [
    "# Problem Solving And Programming\n",
    "\n",
    "## Day No-8\n",
    "\n",
    "## Date-11/5/19\n",
    "\n",
    "### Day Outcomes\n",
    "1.Practicing Python Syntax in the Interactive Shell Print Function - print() Variable Assignment(Single Variable, Multiple Variables) Getting the Data Types using type() String Slicing Lists Tuples Dictionaries Reading input from user\n",
    "2.Jupyter Notebooks Overview, Architecture Standard Template Markdown Syntax\n",
    "3.Problem Set Data Processing"
   ]
  },
  {
   "cell_type": "markdown",
   "metadata": {},
   "source": [
    "# Problem 1 :\n",
    "## Problem Statement :\n",
    "Define a function to convert a decimal number to the corresponding binary number\n",
    "\n",
    "## Constraints :\n",
    "Given number to be within range [1,1000]\n",
    "\n",
    "## Test Cases :\n",
    "* decimalToBinary(15) -> 1111\n",
    "* decimalToBinary(1) -> 1"
   ]
  },
  {
   "cell_type": "code",
   "execution_count": 1,
   "metadata": {},
   "outputs": [
    {
     "name": "stdout",
     "output_type": "stream",
     "text": [
      "1111\n",
      "1\n"
     ]
    }
   ],
   "source": [
    "def decimalToBinary(n):\n",
    "    while n>1:\n",
    "        rem=n%2\n",
    "        n=int(n/2)\n",
    "        print(rem,end='')\n",
    "    if n==1:\n",
    "        print(1,end='')\n",
    "    elif n==0:\n",
    "        print(0,end='')\n",
    "    return ''\n",
    "print(decimalToBinary(15))\n",
    "print(decimalToBinary(1))"
   ]
  },
  {
   "cell_type": "markdown",
   "metadata": {},
   "source": [
    "# Problem 2 :\n",
    "## Problem Statement :\n",
    "Define a function to convert a binary number to the corresponding decimal number\n",
    "\n",
    "## Constraints\n",
    "range is [1,1000]\n",
    "\n",
    "## Test Cases\n",
    "* binaryToDecimal(1100) -> 12\n",
    "* binaryToDecimal(1010) -> 10\n",
    "* binaryToDecimal(111000) -> 56"
   ]
  },
  {
   "cell_type": "code",
   "execution_count": 7,
   "metadata": {},
   "outputs": [
    {
     "name": "stdout",
     "output_type": "stream",
     "text": [
      "12\n",
      "10\n",
      "56\n"
     ]
    }
   ],
   "source": [
    "def binaryToDecimal(n):\n",
    "    temp=str(n)\n",
    "    sum=0\n",
    "    pow=len(temp)-1\n",
    "    for count in range (0,len(temp)):\n",
    "        sum=sum+(int(temp[count]))*2**pow\n",
    "        pow=pow-1\n",
    "    return sum\n",
    "\n",
    "print(binaryToDecimal(1100))\n",
    "print(binaryToDecimal(1010))\n",
    "print(binaryToDecimal(111000))"
   ]
  },
  {
   "cell_type": "markdown",
   "metadata": {},
   "source": []
  },
  {
   "cell_type": "code",
   "execution_count": 31,
   "metadata": {},
   "outputs": [
    {
     "name": "stdout",
     "output_type": "stream",
     "text": [
      "True\n",
      "False\n",
      "True\n",
      "True\n",
      "False\n"
     ]
    }
   ],
   "source": []
  },
  {
   "cell_type": "markdown",
   "metadata": {},
   "source": [
    "# Problem 3\n",
    "## Problem Statement\n",
    "Design a Python script to determine the difference in date for given two dates in YYYY:MM:DD format(0 <= YYYY <= 9999, 1 <= MM <= 12, 1 <= DD <= 31) following the leap year rules. Return the total number of days existing between the two dates.\n",
    "\n",
    "## Constraints\n",
    "range is [1,1000]\n",
    "\n",
    "## Test cases:\n",
    "* dateDifference('2019:05:10', '2019:05:01') -> 9\n",
    "* dateDifference('0003:03:03', '0003:06:06') -> 95"
   ]
  },
  {
   "cell_type": "code",
   "execution_count": 3,
   "metadata": {},
   "outputs": [
    {
     "name": "stdout",
     "output_type": "stream",
     "text": [
      "9\n",
      "95\n"
     ]
    }
   ],
   "source": [
    "def dateDifference(d1,d2):\n",
    "    if d1[0]%4==0 and d1[0]%100!=0 or d2[0]%4==0 and d2[0]%100!=0 :\n",
    "        condition = True\n",
    "    elif d1[0]%400==0 or d2[0]%400==0 :\n",
    "        condition = True\n",
    "    else:\n",
    "        condition = False\n",
    "    sums=0\n",
    "    sumt=0\n",
    "    diff=0\n",
    "    n=0\n",
    "    m=0\n",
    "    if d1[0] != d2[0]:\n",
    "        if d1[0]>d2[0]:\n",
    "            diff = d1[0] - d2[0]\n",
    "        else:\n",
    "            diff = d2[0] - d1[0]\n",
    "    sums += diff*365\n",
    "    if (condition == True):\n",
    "        dic = {'1':31,'2':29,'3':31,'4':30,'5':31,'6':30,'7':31,'8':31,'9':30,'10':31,'11':30,'12':31}\n",
    "    else:\n",
    "        dic = {'1':31,'2':28,'3':31,'4':30,'5':31,'6':30,'7':31,'8':31,'9':30,'10':31,'11':30,'12':31}\n",
    "    if d1[1] != d2[1]:\n",
    "        n=d1[1]\n",
    "        m=d2[1]\n",
    "        for i in range(d1[1],d2[1]):\n",
    "            sums += dic[str(i)]\n",
    "    if d1[2] != d2[2]:\n",
    "        if d1[2] > d2[2]:\n",
    "            diff = d1[2] - d2[2]\n",
    "        else:\n",
    "             diff = d2[2] - d1[2]\n",
    "    sums += diff\n",
    "    \n",
    "   \n",
    "    return sums\n",
    "\n",
    "print(dateDifference((2019,5,10), (2019,5,1)))\n",
    "print(dateDifference((3,3,3), (3,6,6)))"
   ]
  },
  {
   "cell_type": "markdown",
   "metadata": {},
   "source": [
    "# Problem 4\n",
    "## Problem Statement\n",
    "Define a function to find the average of all the outer elements of an N x M matrix.\n",
    "\n",
    "## Constraints\n",
    "range is [1,100]\n",
    "\n",
    "## Test Cases\n",
    "averageOuterMatrix([[1, 2, 3], [4, 5, 6], [7, 8, 9], [10, 11, 12]] -> 4.5"
   ]
  },
  {
   "cell_type": "code",
   "execution_count": 42,
   "metadata": {},
   "outputs": [
    {
     "data": {
      "text/plain": [
       "3.7"
      ]
     },
     "execution_count": 42,
     "metadata": {},
     "output_type": "execute_result"
    }
   ],
   "source": [
    "def sum(a):\n",
    "    x=0\n",
    "    for i in range(0,len(a)):\n",
    "        x=x+a[i]\n",
    "        return x\n",
    "def aom(a):\n",
    "    c=s=0\n",
    "    for i in range(0,len(a)):\n",
    "        if i==0 or i==len(a)-1:\n",
    "            s=s+sum(a[i])\n",
    "            c=c+len(a[i])\n",
    "        else:\n",
    "            s=s+a[i][0]+a[i][len(a[i])-1]\n",
    "            c=c+2\n",
    "    return s/c\n",
    "\n",
    "aom([[1,2,3], [4, 5, 6], [7, 8, 9], [10, 11, 12]])           \n"
   ]
  },
  {
   "cell_type": "markdown",
   "metadata": {},
   "source": [
    "# Problem 5\n",
    "## Problem Statement\n",
    " Define a function to print the sequence of spiral pattern elements for a given N x N matrix\n",
    " \n",
    " ## Constraints\n",
    " range is [1,1000]\n",
    " \n",
    " ## Test Cases\n",
    " spiralPattern([[1,2,3], [4,5,6], [7,8,9]]) -> 1 2 3 6 9 8 7 4 5"
   ]
  },
  {
   "cell_type": "code",
   "execution_count": 26,
   "metadata": {},
   "outputs": [
    {
     "name": "stdout",
     "output_type": "stream",
     "text": [
      "[1, 2, 3, 6, 9, 8, 7, 4, 5]\n"
     ]
    }
   ],
   "source": [
    "def layerTopRight(matrix):\n",
    "  \n",
    "  top = matrix.pop(0) \n",
    "  right = []\n",
    "  for i in range(0, len(matrix)):\n",
    "    e = matrix[i].pop()\n",
    "    right.append(e)\n",
    "    \n",
    "  return top + right\n",
    "\n",
    "def layerBottomLeft(matrix):\n",
    "  \n",
    "  bottom = matrix.pop()[::-1]\n",
    "  \n",
    "  left = []\n",
    "  \n",
    "  for i in range(0, len(matrix)):\n",
    "    e = matrix[i].pop(0)\n",
    "    left.append(e)\n",
    "    \n",
    "  return bottom + left[::-1]\n",
    "\n",
    "\n",
    "def spiral(matrix):\n",
    "  \n",
    "  spir = []\n",
    "  \n",
    "  while len(matrix) > 0:\n",
    "    \n",
    "    if len(matrix) == 1:\n",
    "      spir += matrix[0]\n",
    "      break\n",
    "      \n",
    "    tr = layerTopRight(matrix)\n",
    "    spir += tr\n",
    "    \n",
    "    bl = layerBottomLeft(matrix)\n",
    "    spir += bl\n",
    "    \n",
    "  return spir\n",
    "  \n",
    "  \n",
    "# setup a matrix  \n",
    "M = [[1, 2, 3 ],[4, 5, 6 ], [7, 8, 9 ]]\n",
    "\n",
    "print(spiral(M))"
   ]
  },
  {
   "cell_type": "markdown",
   "metadata": {},
   "source": [
    "## Problem 6 :\n",
    "### Problem Statement:\n",
    "Define a function to merge the characters of two strings alternatively. The remaining characters of the longer string are printed in the same order at the end.\n",
    "\n",
    "### Constraints : --------\n",
    "### Test Cases:\n",
    "mergeString('abcd', 'abcd') -> 'aabbccdd'\n",
    "mergeString('abc', '123456') -> 'a1b2c3456'\n",
    "mergeString('0', '123456') -> '0123456'"
   ]
  },
  {
   "cell_type": "code",
   "execution_count": 1,
   "metadata": {},
   "outputs": [
    {
     "name": "stdout",
     "output_type": "stream",
     "text": [
      "aabbccdd\n",
      "a1b2c3456\n",
      "0123456\n"
     ]
    }
   ],
   "source": [
    "def mergeString(a,b):\n",
    "    i = len(a)\n",
    "    j = len(b)\n",
    "    s=''\n",
    "    if i>j:\n",
    "        k = len(b)\n",
    "    elif i==j:\n",
    "        k = len(a)\n",
    "    else:\n",
    "        k =len(a)\n",
    "    for l in range(k):\n",
    "        s += a[l] + b[l]\n",
    "    if i>j:\n",
    "        for l in range(j,i):\n",
    "            s += a[l]\n",
    "    elif i<j:\n",
    "        for l in range(i,j):\n",
    "            s += b[l]\n",
    "    return s\n",
    "        \n",
    "print(mergeString('abcd', 'abcd'))\n",
    "print(mergeString('abc', '123456'))\n",
    "print(mergeString('0', '123456'))"
   ]
  },
  {
   "cell_type": "code",
   "execution_count": null,
   "metadata": {},
   "outputs": [],
   "source": []
  }
 ],
 "metadata": {
  "kernelspec": {
   "display_name": "Python 3",
   "language": "python",
   "name": "python3"
  },
  "language_info": {
   "codemirror_mode": {
    "name": "ipython",
    "version": 3
   },
   "file_extension": ".py",
   "mimetype": "text/x-python",
   "name": "python",
   "nbconvert_exporter": "python",
   "pygments_lexer": "ipython3",
   "version": "3.7.3"
  }
 },
 "nbformat": 4,
 "nbformat_minor": 2
}
