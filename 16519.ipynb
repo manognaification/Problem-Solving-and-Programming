{
 "cells": [
  {
   "cell_type": "markdown",
   "metadata": {},
   "source": [
    "# PROBLEM SOLVING AND PROGRAMMING\n",
    "## DAY NO 13\n",
    "## DATE:16/05/19\n",
    "## DAY OUTCOMES\n",
    "* Functional Programming\n",
    "* External Libraries\n",
    "* File Handling / Data Processing\n"
   ]
  },
  {
   "cell_type": "markdown",
   "metadata": {},
   "source": [
    "## PROBLEM 1\n",
    "### PROBLEM STATEMENT\n",
    "HANDLING THE READ DATA\n",
    "### CONSTRAINTS\n",
    "\n",
    "### TEST CASES\n",
    "\n",
    "\n"
   ]
  },
  {
   "cell_type": "code",
   "execution_count": 27,
   "metadata": {},
   "outputs": [],
   "source": [
    "def readFileData(filename):\n",
    "    with open(filename,'r') as f:\n",
    "        # for line in f:\n",
    "           # print(line, end = '')\n",
    "            print(f.read())\n",
    "    \n",
    "    \n",
    "    \n",
    "def writeintofile(filename, data,mode):\n",
    "    with open(filename,mode) as f:\n",
    "        f.write(data)\n",
    "    return \n",
    "    \n",
    "writeintofile('tes/filewrite.txt' , 'no one likes me. i am alone.' ,'a')\n",
    "    \n"
   ]
  },
  {
   "cell_type": "markdown",
   "metadata": {},
   "source": [
    "## PROBLEM 2\n",
    "### PROBLEM STATEMENT\n",
    "Define a function to generate a Marks a data file for 1300 students such that each mark is entered in a new line.Marks range from 0 to 100 as random numbers.\n",
    "### Constraints\n",
    "\n",
    "### Test cases\n"
   ]
  },
  {
   "cell_type": "code",
   "execution_count": 62,
   "metadata": {},
   "outputs": [
    {
     "data": {
      "text/plain": [
       "1"
      ]
     },
     "execution_count": 62,
     "metadata": {},
     "output_type": "execute_result"
    }
   ],
   "source": [
    "import random \n",
    "def genmark(filename):\n",
    "    with open(filename, 'a') as f:\n",
    "        for count in range(1,1300):\n",
    "            f.write(str(random.randrange(0,100)) +'\\n')\n",
    "        return 1\n",
    "genmark('tes/filewrite.txt')"
   ]
  },
  {
   "cell_type": "markdown",
   "metadata": {},
   "source": [
    "## PROBLEM 3\n",
    "### PROBLEM STATEMENT\n",
    "CALCULATE marks of the student\n",
    "* HIGHEST MARKS\n",
    "* LOWEST MARKS\n",
    "* AVERAGE MARKS\n",
    "* NO.OF STUDENTS WITH DISTINCTION(>80)\n",
    "* NO.OF STUDENT WITH FIRST CLASS(>60)\n",
    "* NO.OF STUDENTS WITH SECOND CLASS(>50)\n",
    "* NO.OF STUDENTS WITH THIRD CLASS(>40)\n",
    "* NO.OF STUDENTS FAILED(<40)"
   ]
  },
  {
   "cell_type": "code",
   "execution_count": 34,
   "metadata": {},
   "outputs": [
    {
     "name": "stdout",
     "output_type": "stream",
     "text": [
      "highest marks= 99\n",
      "lowest marks= 0\n",
      "average marks= 51\n",
      "distinction= 214\n",
      "first class= 302\n",
      "second class= 120\n",
      "third class= 125\n",
      "fail= 539\n"
     ]
    },
    {
     "data": {
      "text/plain": [
       "0.0018662979996406648"
      ]
     },
     "execution_count": 34,
     "metadata": {},
     "output_type": "execute_result"
    }
   ],
   "source": [
    "import timeit\n",
    "def readFileData(filename):\n",
    "    start=timeit.default_timer()\n",
    "    low=0\n",
    "    high=0\n",
    "    avg=0\n",
    "    count=0\n",
    "    sums=0\n",
    "    dist=0\n",
    "    first=0\n",
    "    second=0\n",
    "    third=0\n",
    "    fail=0\n",
    "    li=[]\n",
    "    \n",
    "    with open(filename, 'r') as f:\n",
    "        for line in f:\n",
    "            li.append(int(line))\n",
    "        for i in li:\n",
    "            if li[i]>=80:\n",
    "                dist+=1\n",
    "            elif li[i]>=60:\n",
    "                first+=1\n",
    "            elif li[i]>=50:\n",
    "                second+=1\n",
    "            elif li[i]>=40:\n",
    "                third+=1\n",
    "            elif li[i]<40:\n",
    "                fail+=1\n",
    "    print(\"highest marks=\",max(li))\n",
    "    print(\"lowest marks=\",min(li))\n",
    "    print(\"average marks=\",sum(li)//len(li))\n",
    "    print(\"distinction=\",dist)\n",
    "    print(\"first class=\",first)\n",
    "    print(\"second class=\",second)\n",
    "    print(\"third class=\",third)\n",
    "    print(\"fail=\",fail)\n",
    "    return timeit.default_timer()-start\n",
    "        \n",
    "\n",
    "\n",
    "                    \n",
    "                                 \n",
    "readFileData('tes/filewrite.txt')                   \n",
    "                "
   ]
  },
  {
   "cell_type": "code",
   "execution_count": 53,
   "metadata": {
    "scrolled": true
   },
   "outputs": [
    {
     "name": "stdout",
     "output_type": "stream",
     "text": [
      "0.00017793799997889437\n"
     ]
    },
    {
     "data": {
      "text/plain": [
       "[1.0, 2.0, 3.0, 4.0, 5.0, 6.0]"
      ]
     },
     "execution_count": 53,
     "metadata": {},
     "output_type": "execute_result"
    }
   ],
   "source": [
    "def square(n):\n",
    "    return n*n\n",
    "st=timeit.default_timer()\n",
    "li=[1,2,3,4,5,6]\n",
    "#s=str(li)\n",
    "s= list(map(str,li))\n",
    "\n",
    "\n",
    "s= [float(i) for i in s]\n",
    "print(timeit.default_timer()-st)\n",
    "s"
   ]
  },
  {
   "cell_type": "code",
   "execution_count": 8,
   "metadata": {},
   "outputs": [
    {
     "name": "stdout",
     "output_type": "stream",
     "text": [
      "[0 1 2]\n"
     ]
    },
    {
     "data": {
      "text/plain": [
       "numpy.ndarray"
      ]
     },
     "execution_count": 8,
     "metadata": {},
     "output_type": "execute_result"
    }
   ],
   "source": [
    "import numpy as np\n",
    "\n",
    "a=np.array([0,1,2])\n",
    "\n",
    "print(a)\n",
    "type(a)"
   ]
  },
  {
   "cell_type": "code",
   "execution_count": null,
   "metadata": {},
   "outputs": [],
   "source": []
  }
 ],
 "metadata": {
  "kernelspec": {
   "display_name": "Python 3",
   "language": "python",
   "name": "python3"
  },
  "language_info": {
   "codemirror_mode": {
    "name": "ipython",
    "version": 3
   },
   "file_extension": ".py",
   "mimetype": "text/x-python",
   "name": "python",
   "nbconvert_exporter": "python",
   "pygments_lexer": "ipython3",
   "version": "3.7.3"
  }
 },
 "nbformat": 4,
 "nbformat_minor": 2
}
